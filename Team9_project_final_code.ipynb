{
 "cells": [
  {
   "cell_type": "markdown",
   "metadata": {},
   "source": [
    "# 라이브러리 불러오기"
   ]
  },
  {
   "cell_type": "code",
   "execution_count": 1,
   "metadata": {},
   "outputs": [
    {
     "data": {
      "text/plain": [
       "'2.6.0'"
      ]
     },
     "execution_count": 1,
     "metadata": {},
     "output_type": "execute_result"
    }
   ],
   "source": [
    "import keras\n",
    "keras.__version__"
   ]
  },
  {
   "cell_type": "code",
   "execution_count": 2,
   "metadata": {},
   "outputs": [],
   "source": [
    "import pandas as pd\n",
    "import numpy as np\n",
    "import tensorflow as tf"
   ]
  },
  {
   "cell_type": "markdown",
   "metadata": {},
   "source": [
    "# 데이터 불러오기"
   ]
  },
  {
   "cell_type": "code",
   "execution_count": 3,
   "metadata": {},
   "outputs": [],
   "source": [
    "train = pd.read_csv(\"train.csv\")\n",
    "test = pd.read_csv(\"test.csv\")"
   ]
  },
  {
   "cell_type": "code",
   "execution_count": 4,
   "metadata": {},
   "outputs": [
    {
     "name": "stdout",
     "output_type": "stream",
     "text": [
      "<class 'pandas.core.frame.DataFrame'>\n",
      "RangeIndex: 4792 entries, 0 to 4791\n",
      "Data columns (total 10 columns):\n",
      " #   Column      Non-Null Count  Dtype  \n",
      "---  ------      --------------  -----  \n",
      " 0   ID          4792 non-null   int64  \n",
      " 1   O3_index    4792 non-null   float64\n",
      " 2   O2_index    4792 non-null   float64\n",
      " 3   sigma_star  4792 non-null   float64\n",
      " 4   sigma_o3    4792 non-null   float64\n",
      " 5   u_g         4792 non-null   float64\n",
      " 6   g_r         4792 non-null   float64\n",
      " 7   r_i         4792 non-null   float64\n",
      " 8   i_z         4792 non-null   float64\n",
      " 9   class       4792 non-null   int64  \n",
      "dtypes: float64(8), int64(2)\n",
      "memory usage: 374.5 KB\n"
     ]
    }
   ],
   "source": [
    "train.info()"
   ]
  },
  {
   "cell_type": "code",
   "execution_count": 5,
   "metadata": {
    "scrolled": true
   },
   "outputs": [],
   "source": [
    "# ID를 인덱스로 사용\n",
    "train = train.set_index('ID')\n",
    "test = test.set_index('ID')"
   ]
  },
  {
   "cell_type": "code",
   "execution_count": 6,
   "metadata": {},
   "outputs": [],
   "source": [
    "# # data 샘플링 : 사용하지 않음.\n",
    "# train = train.sample(frac=1, random_state=365)\n",
    "# test = test.sample(frac=1, random_state=365)"
   ]
  },
  {
   "cell_type": "code",
   "execution_count": 7,
   "metadata": {},
   "outputs": [
    {
     "data": {
      "text/html": [
       "<div>\n",
       "<style scoped>\n",
       "    .dataframe tbody tr th:only-of-type {\n",
       "        vertical-align: middle;\n",
       "    }\n",
       "\n",
       "    .dataframe tbody tr th {\n",
       "        vertical-align: top;\n",
       "    }\n",
       "\n",
       "    .dataframe thead th {\n",
       "        text-align: right;\n",
       "    }\n",
       "</style>\n",
       "<table border=\"1\" class=\"dataframe\">\n",
       "  <thead>\n",
       "    <tr style=\"text-align: right;\">\n",
       "      <th></th>\n",
       "      <th>O3_index</th>\n",
       "      <th>O2_index</th>\n",
       "      <th>sigma_star</th>\n",
       "      <th>sigma_o3</th>\n",
       "      <th>u_g</th>\n",
       "      <th>g_r</th>\n",
       "      <th>r_i</th>\n",
       "      <th>i_z</th>\n",
       "      <th>class</th>\n",
       "    </tr>\n",
       "    <tr>\n",
       "      <th>ID</th>\n",
       "      <th></th>\n",
       "      <th></th>\n",
       "      <th></th>\n",
       "      <th></th>\n",
       "      <th></th>\n",
       "      <th></th>\n",
       "      <th></th>\n",
       "      <th></th>\n",
       "      <th></th>\n",
       "    </tr>\n",
       "  </thead>\n",
       "  <tbody>\n",
       "    <tr>\n",
       "      <th>0</th>\n",
       "      <td>-0.273588</td>\n",
       "      <td>0.231169</td>\n",
       "      <td>2.328258</td>\n",
       "      <td>1.936722</td>\n",
       "      <td>3.280691</td>\n",
       "      <td>0.421998</td>\n",
       "      <td>0.958516</td>\n",
       "      <td>-0.776998</td>\n",
       "      <td>1</td>\n",
       "    </tr>\n",
       "    <tr>\n",
       "      <th>1</th>\n",
       "      <td>0.451072</td>\n",
       "      <td>0.937382</td>\n",
       "      <td>2.268922</td>\n",
       "      <td>2.418982</td>\n",
       "      <td>2.170366</td>\n",
       "      <td>1.061678</td>\n",
       "      <td>0.319187</td>\n",
       "      <td>0.442557</td>\n",
       "      <td>4</td>\n",
       "    </tr>\n",
       "    <tr>\n",
       "      <th>2</th>\n",
       "      <td>0.510605</td>\n",
       "      <td>0.151374</td>\n",
       "      <td>1.612544</td>\n",
       "      <td>1.865838</td>\n",
       "      <td>0.508636</td>\n",
       "      <td>0.128126</td>\n",
       "      <td>-0.085479</td>\n",
       "      <td>0.186809</td>\n",
       "      <td>1</td>\n",
       "    </tr>\n",
       "    <tr>\n",
       "      <th>3</th>\n",
       "      <td>-0.071593</td>\n",
       "      <td>0.475677</td>\n",
       "      <td>1.705409</td>\n",
       "      <td>1.896251</td>\n",
       "      <td>1.299264</td>\n",
       "      <td>-0.386337</td>\n",
       "      <td>0.471262</td>\n",
       "      <td>-0.569618</td>\n",
       "      <td>1</td>\n",
       "    </tr>\n",
       "    <tr>\n",
       "      <th>4</th>\n",
       "      <td>0.599686</td>\n",
       "      <td>0.548090</td>\n",
       "      <td>2.929419</td>\n",
       "      <td>1.919131</td>\n",
       "      <td>2.159247</td>\n",
       "      <td>0.386518</td>\n",
       "      <td>0.000468</td>\n",
       "      <td>0.200131</td>\n",
       "      <td>1</td>\n",
       "    </tr>\n",
       "  </tbody>\n",
       "</table>\n",
       "</div>"
      ],
      "text/plain": [
       "    O3_index  O2_index  sigma_star  sigma_o3       u_g       g_r       r_i  \\\n",
       "ID                                                                           \n",
       "0  -0.273588  0.231169    2.328258  1.936722  3.280691  0.421998  0.958516   \n",
       "1   0.451072  0.937382    2.268922  2.418982  2.170366  1.061678  0.319187   \n",
       "2   0.510605  0.151374    1.612544  1.865838  0.508636  0.128126 -0.085479   \n",
       "3  -0.071593  0.475677    1.705409  1.896251  1.299264 -0.386337  0.471262   \n",
       "4   0.599686  0.548090    2.929419  1.919131  2.159247  0.386518  0.000468   \n",
       "\n",
       "         i_z  class  \n",
       "ID                   \n",
       "0  -0.776998      1  \n",
       "1   0.442557      4  \n",
       "2   0.186809      1  \n",
       "3  -0.569618      1  \n",
       "4   0.200131      1  "
      ]
     },
     "execution_count": 7,
     "metadata": {},
     "output_type": "execute_result"
    }
   ],
   "source": [
    "train.head()"
   ]
  },
  {
   "cell_type": "code",
   "execution_count": 8,
   "metadata": {},
   "outputs": [
    {
     "data": {
      "text/html": [
       "<div>\n",
       "<style scoped>\n",
       "    .dataframe tbody tr th:only-of-type {\n",
       "        vertical-align: middle;\n",
       "    }\n",
       "\n",
       "    .dataframe tbody tr th {\n",
       "        vertical-align: top;\n",
       "    }\n",
       "\n",
       "    .dataframe thead th {\n",
       "        text-align: right;\n",
       "    }\n",
       "</style>\n",
       "<table border=\"1\" class=\"dataframe\">\n",
       "  <thead>\n",
       "    <tr style=\"text-align: right;\">\n",
       "      <th></th>\n",
       "      <th>O3_index</th>\n",
       "      <th>O2_index</th>\n",
       "      <th>sigma_star</th>\n",
       "      <th>sigma_o3</th>\n",
       "      <th>u_g</th>\n",
       "      <th>g_r</th>\n",
       "      <th>r_i</th>\n",
       "      <th>i_z</th>\n",
       "    </tr>\n",
       "    <tr>\n",
       "      <th>ID</th>\n",
       "      <th></th>\n",
       "      <th></th>\n",
       "      <th></th>\n",
       "      <th></th>\n",
       "      <th></th>\n",
       "      <th></th>\n",
       "      <th></th>\n",
       "      <th></th>\n",
       "    </tr>\n",
       "  </thead>\n",
       "  <tbody>\n",
       "    <tr>\n",
       "      <th>4792</th>\n",
       "      <td>0.170767</td>\n",
       "      <td>0.789833</td>\n",
       "      <td>1.903801</td>\n",
       "      <td>1.916217</td>\n",
       "      <td>0.000000</td>\n",
       "      <td>0.000000</td>\n",
       "      <td>0.000000</td>\n",
       "      <td>0.000000</td>\n",
       "    </tr>\n",
       "    <tr>\n",
       "      <th>4793</th>\n",
       "      <td>0.865944</td>\n",
       "      <td>0.504653</td>\n",
       "      <td>2.230665</td>\n",
       "      <td>2.176961</td>\n",
       "      <td>1.494635</td>\n",
       "      <td>0.807948</td>\n",
       "      <td>0.330087</td>\n",
       "      <td>0.305801</td>\n",
       "    </tr>\n",
       "    <tr>\n",
       "      <th>4794</th>\n",
       "      <td>-0.442804</td>\n",
       "      <td>0.029528</td>\n",
       "      <td>2.273438</td>\n",
       "      <td>2.231962</td>\n",
       "      <td>1.732282</td>\n",
       "      <td>1.056049</td>\n",
       "      <td>0.347226</td>\n",
       "      <td>0.416069</td>\n",
       "    </tr>\n",
       "    <tr>\n",
       "      <th>4795</th>\n",
       "      <td>0.389172</td>\n",
       "      <td>0.478798</td>\n",
       "      <td>2.462933</td>\n",
       "      <td>1.950633</td>\n",
       "      <td>1.802273</td>\n",
       "      <td>0.553316</td>\n",
       "      <td>0.246908</td>\n",
       "      <td>0.120866</td>\n",
       "    </tr>\n",
       "    <tr>\n",
       "      <th>4796</th>\n",
       "      <td>-0.317761</td>\n",
       "      <td>0.411687</td>\n",
       "      <td>2.541002</td>\n",
       "      <td>1.936176</td>\n",
       "      <td>-1.048994</td>\n",
       "      <td>1.808624</td>\n",
       "      <td>1.178145</td>\n",
       "      <td>-1.242889</td>\n",
       "    </tr>\n",
       "  </tbody>\n",
       "</table>\n",
       "</div>"
      ],
      "text/plain": [
       "      O3_index  O2_index  sigma_star  sigma_o3       u_g       g_r       r_i  \\\n",
       "ID                                                                             \n",
       "4792  0.170767  0.789833    1.903801  1.916217  0.000000  0.000000  0.000000   \n",
       "4793  0.865944  0.504653    2.230665  2.176961  1.494635  0.807948  0.330087   \n",
       "4794 -0.442804  0.029528    2.273438  2.231962  1.732282  1.056049  0.347226   \n",
       "4795  0.389172  0.478798    2.462933  1.950633  1.802273  0.553316  0.246908   \n",
       "4796 -0.317761  0.411687    2.541002  1.936176 -1.048994  1.808624  1.178145   \n",
       "\n",
       "           i_z  \n",
       "ID              \n",
       "4792  0.000000  \n",
       "4793  0.305801  \n",
       "4794  0.416069  \n",
       "4795  0.120866  \n",
       "4796 -1.242889  "
      ]
     },
     "execution_count": 8,
     "metadata": {},
     "output_type": "execute_result"
    }
   ],
   "source": [
    "test.head()"
   ]
  },
  {
   "cell_type": "code",
   "execution_count": 9,
   "metadata": {},
   "outputs": [
    {
     "name": "stdout",
     "output_type": "stream",
     "text": [
      "train shape : (4792, 9)\n",
      "test shape : (1199, 8)\n"
     ]
    }
   ],
   "source": [
    "print(f\"train shape : {train.shape}\")\n",
    "print(f\"test shape : {test.shape}\")"
   ]
  },
  {
   "cell_type": "code",
   "execution_count": 10,
   "metadata": {},
   "outputs": [
    {
     "name": "stdout",
     "output_type": "stream",
     "text": [
      "<<Info>>\n",
      "<class 'pandas.core.frame.DataFrame'>\n",
      "Int64Index: 4792 entries, 0 to 4791\n",
      "Data columns (total 9 columns):\n",
      " #   Column      Non-Null Count  Dtype  \n",
      "---  ------      --------------  -----  \n",
      " 0   O3_index    4792 non-null   float64\n",
      " 1   O2_index    4792 non-null   float64\n",
      " 2   sigma_star  4792 non-null   float64\n",
      " 3   sigma_o3    4792 non-null   float64\n",
      " 4   u_g         4792 non-null   float64\n",
      " 5   g_r         4792 non-null   float64\n",
      " 6   r_i         4792 non-null   float64\n",
      " 7   i_z         4792 non-null   float64\n",
      " 8   class       4792 non-null   int64  \n",
      "dtypes: float64(8), int64(1)\n",
      "memory usage: 374.4 KB\n",
      "None\n",
      "\n",
      "\n",
      "<<Describe>>\n",
      "          O3_index     O2_index   sigma_star     sigma_o3          u_g  \\\n",
      "count  4792.000000  4792.000000  4792.000000  4792.000000  4792.000000   \n",
      "mean      0.100454     0.408288     2.146874     2.049127     1.428489   \n",
      "std       0.395793     0.233448     0.386399     0.161122     1.416444   \n",
      "min      -1.077344    -0.393085     1.099891     1.781713   -22.678356   \n",
      "25%      -0.185107     0.258474     1.919413     1.911001     0.804721   \n",
      "50%       0.091531     0.406668     2.134009     1.992491     1.452839   \n",
      "75%       0.379996     0.548887     2.322961     2.175197     1.940513   \n",
      "max       1.317226     1.447062     2.929419     2.622374     8.771320   \n",
      "\n",
      "               g_r          r_i          i_z        class  \n",
      "count  4792.000000  4792.000000  4792.000000  4792.000000  \n",
      "mean      0.666745     0.308482     0.191227     1.047579  \n",
      "std       0.570913     1.102514     1.169471    25.051011  \n",
      "min     -11.330277    -5.542332   -22.533869  -999.000000  \n",
      "25%       0.362413     0.120294     0.075964     1.000000  \n",
      "50%       0.719876     0.350625     0.299911     1.000000  \n",
      "75%       1.003087     0.506749     0.419537     2.000000  \n",
      "max       4.256793    22.663565     6.960516     4.000000  \n"
     ]
    }
   ],
   "source": [
    "print(\"<<Info>>\")\n",
    "print(train.info())\n",
    "print(\"\\n\\n<<Describe>>\")\n",
    "print(train.describe())"
   ]
  },
  {
   "cell_type": "code",
   "execution_count": 11,
   "metadata": {},
   "outputs": [
    {
     "name": "stdout",
     "output_type": "stream",
     "text": [
      "<<Info>>\n",
      "<class 'pandas.core.frame.DataFrame'>\n",
      "Int64Index: 1199 entries, 4792 to 5990\n",
      "Data columns (total 8 columns):\n",
      " #   Column      Non-Null Count  Dtype  \n",
      "---  ------      --------------  -----  \n",
      " 0   O3_index    1199 non-null   float64\n",
      " 1   O2_index    1199 non-null   float64\n",
      " 2   sigma_star  1199 non-null   float64\n",
      " 3   sigma_o3    1199 non-null   float64\n",
      " 4   u_g         1199 non-null   float64\n",
      " 5   g_r         1199 non-null   float64\n",
      " 6   r_i         1199 non-null   float64\n",
      " 7   i_z         1199 non-null   float64\n",
      "dtypes: float64(8)\n",
      "memory usage: 84.3 KB\n",
      "None\n",
      "\n",
      "\n",
      "<<Describe>>\n",
      "          O3_index     O2_index   sigma_star     sigma_o3          u_g  \\\n",
      "count  1199.000000  1199.000000  1199.000000  1199.000000  1199.000000   \n",
      "mean      0.112277     0.413362     2.151671     2.051109     1.404323   \n",
      "std       0.383080     0.234725     0.387940     0.162774     1.422439   \n",
      "min      -0.882109    -0.480606     1.099769     1.791830   -22.024016   \n",
      "25%      -0.161243     0.260862     1.928253     1.911868     0.788495   \n",
      "50%       0.106965     0.412113     2.126372     1.996707     1.429861   \n",
      "75%       0.382750     0.553798     2.322587     2.167618     1.937967   \n",
      "max       1.283505     1.261399     2.929419     2.521297     7.257290   \n",
      "\n",
      "               g_r          r_i          i_z  \n",
      "count  1199.000000  1199.000000  1199.000000  \n",
      "mean      0.664847     0.308122     0.204655  \n",
      "std       0.523771     1.160201     1.214400  \n",
      "min      -3.893961    -4.340661   -22.379930  \n",
      "25%       0.343035     0.118395     0.074467  \n",
      "50%       0.707619     0.355075     0.300157  \n",
      "75%       1.002982     0.516987     0.427522  \n",
      "max       3.614400    22.057510     5.463285  \n"
     ]
    }
   ],
   "source": [
    "print(\"<<Info>>\")\n",
    "print(test.info())\n",
    "print(\"\\n\\n<<Describe>>\")\n",
    "print(test.describe())"
   ]
  },
  {
   "cell_type": "code",
   "execution_count": 12,
   "metadata": {
    "scrolled": false
   },
   "outputs": [
    {
     "data": {
      "image/png": "[encoded data removed]",
      "text/plain": [
       "<Figure size 1440x1080 with 9 Axes>"
      ]
     },
     "metadata": {
      "needs_background": "light"
     },
     "output_type": "display_data"
    }
   ],
   "source": [
    "%matplotlib inline\n",
    "import matplotlib.pyplot as plt\n",
    "\n",
    "train.hist(bins=100, figsize=(20, 15))\n",
    "plt.show()"
   ]
  },
  {
   "cell_type": "code",
   "execution_count": 13,
   "metadata": {
    "scrolled": true
   },
   "outputs": [
    {
     "data": {
      "text/plain": [
       "<AxesSubplot:>"
      ]
     },
     "execution_count": 13,
     "metadata": {},
     "output_type": "execute_result"
    },
    {
     "data": {
      "image/png": "[encoded data removed]",
      "text/plain": [
       "<Figure size 432x288 with 1 Axes>"
      ]
     },
     "metadata": {
      "needs_background": "light"
     },
     "output_type": "display_data"
    }
   ],
   "source": [
    "train.boxplot('class')"
   ]
  },
  {
   "cell_type": "code",
   "execution_count": 14,
   "metadata": {},
   "outputs": [
    {
     "data": {
      "text/plain": [
       " 1      0.592863\n",
       " 2      0.226002\n",
       " 3      0.093907\n",
       " 4      0.086603\n",
       "-999    0.000626\n",
       "Name: class, dtype: float64"
      ]
     },
     "execution_count": 14,
     "metadata": {},
     "output_type": "execute_result"
    }
   ],
   "source": [
    "train['class'].value_counts() / len(train)"
   ]
  },
  {
   "cell_type": "markdown",
   "metadata": {},
   "source": [
    "# 종속변수 독립변수 분할"
   ]
  },
  {
   "cell_type": "code",
   "execution_count": 15,
   "metadata": {},
   "outputs": [],
   "source": [
    "x_train = train.drop(['class'], axis=1) # 독립변수\n",
    "y_train = train['class'] # 종속변수"
   ]
  },
  {
   "cell_type": "code",
   "execution_count": 16,
   "metadata": {
    "scrolled": true
   },
   "outputs": [
    {
     "data": {
      "text/html": [
       "<div>\n",
       "<style scoped>\n",
       "    .dataframe tbody tr th:only-of-type {\n",
       "        vertical-align: middle;\n",
       "    }\n",
       "\n",
       "    .dataframe tbody tr th {\n",
       "        vertical-align: top;\n",
       "    }\n",
       "\n",
       "    .dataframe thead th {\n",
       "        text-align: right;\n",
       "    }\n",
       "</style>\n",
       "<table border=\"1\" class=\"dataframe\">\n",
       "  <thead>\n",
       "    <tr style=\"text-align: right;\">\n",
       "      <th></th>\n",
       "      <th>O3_index</th>\n",
       "      <th>O2_index</th>\n",
       "      <th>sigma_star</th>\n",
       "      <th>sigma_o3</th>\n",
       "      <th>u_g</th>\n",
       "      <th>g_r</th>\n",
       "      <th>r_i</th>\n",
       "      <th>i_z</th>\n",
       "    </tr>\n",
       "    <tr>\n",
       "      <th>ID</th>\n",
       "      <th></th>\n",
       "      <th></th>\n",
       "      <th></th>\n",
       "      <th></th>\n",
       "      <th></th>\n",
       "      <th></th>\n",
       "      <th></th>\n",
       "      <th></th>\n",
       "    </tr>\n",
       "  </thead>\n",
       "  <tbody>\n",
       "    <tr>\n",
       "      <th>0</th>\n",
       "      <td>-0.273588</td>\n",
       "      <td>0.231169</td>\n",
       "      <td>2.328258</td>\n",
       "      <td>1.936722</td>\n",
       "      <td>3.280691</td>\n",
       "      <td>0.421998</td>\n",
       "      <td>0.958516</td>\n",
       "      <td>-0.776998</td>\n",
       "    </tr>\n",
       "    <tr>\n",
       "      <th>1</th>\n",
       "      <td>0.451072</td>\n",
       "      <td>0.937382</td>\n",
       "      <td>2.268922</td>\n",
       "      <td>2.418982</td>\n",
       "      <td>2.170366</td>\n",
       "      <td>1.061678</td>\n",
       "      <td>0.319187</td>\n",
       "      <td>0.442557</td>\n",
       "    </tr>\n",
       "    <tr>\n",
       "      <th>2</th>\n",
       "      <td>0.510605</td>\n",
       "      <td>0.151374</td>\n",
       "      <td>1.612544</td>\n",
       "      <td>1.865838</td>\n",
       "      <td>0.508636</td>\n",
       "      <td>0.128126</td>\n",
       "      <td>-0.085479</td>\n",
       "      <td>0.186809</td>\n",
       "    </tr>\n",
       "    <tr>\n",
       "      <th>3</th>\n",
       "      <td>-0.071593</td>\n",
       "      <td>0.475677</td>\n",
       "      <td>1.705409</td>\n",
       "      <td>1.896251</td>\n",
       "      <td>1.299264</td>\n",
       "      <td>-0.386337</td>\n",
       "      <td>0.471262</td>\n",
       "      <td>-0.569618</td>\n",
       "    </tr>\n",
       "    <tr>\n",
       "      <th>4</th>\n",
       "      <td>0.599686</td>\n",
       "      <td>0.548090</td>\n",
       "      <td>2.929419</td>\n",
       "      <td>1.919131</td>\n",
       "      <td>2.159247</td>\n",
       "      <td>0.386518</td>\n",
       "      <td>0.000468</td>\n",
       "      <td>0.200131</td>\n",
       "    </tr>\n",
       "  </tbody>\n",
       "</table>\n",
       "</div>"
      ],
      "text/plain": [
       "    O3_index  O2_index  sigma_star  sigma_o3       u_g       g_r       r_i  \\\n",
       "ID                                                                           \n",
       "0  -0.273588  0.231169    2.328258  1.936722  3.280691  0.421998  0.958516   \n",
       "1   0.451072  0.937382    2.268922  2.418982  2.170366  1.061678  0.319187   \n",
       "2   0.510605  0.151374    1.612544  1.865838  0.508636  0.128126 -0.085479   \n",
       "3  -0.071593  0.475677    1.705409  1.896251  1.299264 -0.386337  0.471262   \n",
       "4   0.599686  0.548090    2.929419  1.919131  2.159247  0.386518  0.000468   \n",
       "\n",
       "         i_z  \n",
       "ID            \n",
       "0  -0.776998  \n",
       "1   0.442557  \n",
       "2   0.186809  \n",
       "3  -0.569618  \n",
       "4   0.200131  "
      ]
     },
     "execution_count": 16,
     "metadata": {},
     "output_type": "execute_result"
    }
   ],
   "source": [
    "x_train.head()"
   ]
  },
  {
   "cell_type": "code",
   "execution_count": 17,
   "metadata": {},
   "outputs": [
    {
     "data": {
      "text/plain": [
       "ID\n",
       "0    1\n",
       "1    4\n",
       "2    1\n",
       "3    1\n",
       "4    1\n",
       "Name: class, dtype: int64"
      ]
     },
     "execution_count": 17,
     "metadata": {},
     "output_type": "execute_result"
    }
   ],
   "source": [
    "y_train.head()"
   ]
  },
  {
   "cell_type": "markdown",
   "metadata": {},
   "source": [
    "# 데이터 전처리"
   ]
  },
  {
   "cell_type": "code",
   "execution_count": 18,
   "metadata": {},
   "outputs": [],
   "source": [
    "# 1. 종속변수의 이상치 제거"
   ]
  },
  {
   "cell_type": "code",
   "execution_count": 19,
   "metadata": {},
   "outputs": [
    {
     "data": {
      "text/plain": [
       " 1      2841\n",
       " 2      1083\n",
       " 3       450\n",
       " 4       415\n",
       "-999       3\n",
       "Name: class, dtype: int64"
      ]
     },
     "execution_count": 19,
     "metadata": {},
     "output_type": "execute_result"
    }
   ],
   "source": [
    "y_train.value_counts()"
   ]
  },
  {
   "cell_type": "code",
   "execution_count": 20,
   "metadata": {},
   "outputs": [],
   "source": [
    "def find_outliers(data):\n",
    "    q1, q3 = np.percentile(data, [25, 75])\n",
    "    iqr = q3 - q1\n",
    "    lower_bound = q1 - (iqr * 1.5);\n",
    "    upper_bound = q3 - (iqr * 1.5);\n",
    "    \n",
    "    return np.where(data == -999)"
   ]
  },
  {
   "cell_type": "code",
   "execution_count": 21,
   "metadata": {},
   "outputs": [
    {
     "data": {
      "text/plain": [
       "(array([1146, 1547, 2019], dtype=int64),)"
      ]
     },
     "execution_count": 21,
     "metadata": {},
     "output_type": "execute_result"
    }
   ],
   "source": [
    "find_outliers(train['class'])"
   ]
  },
  {
   "cell_type": "code",
   "execution_count": 22,
   "metadata": {},
   "outputs": [
    {
     "name": "stderr",
     "output_type": "stream",
     "text": [
      "<ipython-input-22-49e465bf7c8e>:2: SettingWithCopyWarning: \n",
      "A value is trying to be set on a copy of a slice from a DataFrame\n",
      "\n",
      "See the caveats in the documentation: https://pandas.pydata.org/pandas-docs/stable/user_guide/indexing.html#returning-a-view-versus-a-copy\n",
      "  y_train[y_train.index == 1146] = 1\n",
      "<ipython-input-22-49e465bf7c8e>:3: SettingWithCopyWarning: \n",
      "A value is trying to be set on a copy of a slice from a DataFrame\n",
      "\n",
      "See the caveats in the documentation: https://pandas.pydata.org/pandas-docs/stable/user_guide/indexing.html#returning-a-view-versus-a-copy\n",
      "  y_train[y_train.index == 1547] = 1\n",
      "<ipython-input-22-49e465bf7c8e>:4: SettingWithCopyWarning: \n",
      "A value is trying to be set on a copy of a slice from a DataFrame\n",
      "\n",
      "See the caveats in the documentation: https://pandas.pydata.org/pandas-docs/stable/user_guide/indexing.html#returning-a-view-versus-a-copy\n",
      "  y_train[y_train.index == 2019] = 1\n"
     ]
    }
   ],
   "source": [
    "# 최빈값 1로 이상치 대체\n",
    "y_train[y_train.index == 1146] = 1\n",
    "y_train[y_train.index == 1547] = 1\n",
    "y_train[y_train.index == 2019] = 1"
   ]
  },
  {
   "cell_type": "code",
   "execution_count": 23,
   "metadata": {},
   "outputs": [
    {
     "data": {
      "text/plain": [
       "1    2844\n",
       "2    1083\n",
       "3     450\n",
       "4     415\n",
       "Name: class, dtype: int64"
      ]
     },
     "execution_count": 23,
     "metadata": {},
     "output_type": "execute_result"
    }
   ],
   "source": [
    "y_train.value_counts()"
   ]
  },
  {
   "cell_type": "code",
   "execution_count": 24,
   "metadata": {},
   "outputs": [],
   "source": [
    "# 2. 종속 변수 전처리\n",
    "# one hot encoder\n",
    "from sklearn.preprocessing import LabelEncoder\n",
    "LE = LabelEncoder()\n",
    "LE.fit(y_train)\n",
    "y_train = LE.transform(y_train)"
   ]
  },
  {
   "cell_type": "code",
   "execution_count": 25,
   "metadata": {},
   "outputs": [],
   "source": [
    "from keras.utils import np_utils\n",
    "\n",
    "y_train = np_utils.to_categorical(y_train)"
   ]
  },
  {
   "cell_type": "code",
   "execution_count": 26,
   "metadata": {
    "scrolled": true
   },
   "outputs": [
    {
     "data": {
      "text/plain": [
       "array([[1., 0., 0., 0.],\n",
       "       [0., 0., 0., 1.],\n",
       "       [1., 0., 0., 0.],\n",
       "       ...,\n",
       "       [1., 0., 0., 0.],\n",
       "       [1., 0., 0., 0.],\n",
       "       [1., 0., 0., 0.]], dtype=float32)"
      ]
     },
     "execution_count": 26,
     "metadata": {},
     "output_type": "execute_result"
    }
   ],
   "source": [
    "y_train # 0 : 1 / 1 : 2 / 2 : 3 / 3 : 4"
   ]
  },
  {
   "cell_type": "code",
   "execution_count": 27,
   "metadata": {},
   "outputs": [],
   "source": [
    "#3. 독립변수들의 전처리\n",
    "# PCA 분석\n",
    "from sklearn.decomposition import PCA"
   ]
  },
  {
   "cell_type": "code",
   "execution_count": 28,
   "metadata": {},
   "outputs": [
    {
     "data": {
      "text/plain": [
       "PCA(n_components=8)"
      ]
     },
     "execution_count": 28,
     "metadata": {},
     "output_type": "execute_result"
    }
   ],
   "source": [
    "pca = PCA(n_components=8)\n",
    "pca.fit(x_train)"
   ]
  },
  {
   "cell_type": "code",
   "execution_count": 29,
   "metadata": {},
   "outputs": [
    {
     "name": "stdout",
     "output_type": "stream",
     "text": [
      "<class 'pandas.core.frame.DataFrame'>\n",
      "Int64Index: 4792 entries, 0 to 4791\n",
      "Data columns (total 8 columns):\n",
      " #   Column      Non-Null Count  Dtype  \n",
      "---  ------      --------------  -----  \n",
      " 0   O3_index    4792 non-null   float64\n",
      " 1   O2_index    4792 non-null   float64\n",
      " 2   sigma_star  4792 non-null   float64\n",
      " 3   sigma_o3    4792 non-null   float64\n",
      " 4   u_g         4792 non-null   float64\n",
      " 5   g_r         4792 non-null   float64\n",
      " 6   r_i         4792 non-null   float64\n",
      " 7   i_z         4792 non-null   float64\n",
      "dtypes: float64(8)\n",
      "memory usage: 336.9 KB\n"
     ]
    }
   ],
   "source": [
    "x_train.info()"
   ]
  },
  {
   "cell_type": "code",
   "execution_count": 30,
   "metadata": {},
   "outputs": [
    {
     "data": {
      "text/plain": [
       "array([3.77837149, 0.72186821, 0.30573183, 0.21020826, 0.13207625,\n",
       "       0.10536658, 0.03559721, 0.01265057])"
      ]
     },
     "execution_count": 30,
     "metadata": {},
     "output_type": "execute_result"
    }
   ],
   "source": [
    "pca.explained_variance_"
   ]
  },
  {
   "cell_type": "code",
   "execution_count": 31,
   "metadata": {},
   "outputs": [
    {
     "data": {
      "text/plain": [
       "Text(0, 0.5, 'Cumulative explained variance')"
      ]
     },
     "execution_count": 31,
     "metadata": {},
     "output_type": "execute_result"
    },
    {
     "data": {
      "image/png": "[encoded data removed]",
      "text/plain": [
       "<Figure size 432x288 with 1 Axes>"
      ]
     },
     "metadata": {
      "needs_background": "light"
     },
     "output_type": "display_data"
    }
   ],
   "source": [
    "plt.plot(np.cumsum(pca.explained_variance_ratio_))\n",
    "plt.xlabel('Number of components')\n",
    "plt.ylabel('Cumulative explained variance')"
   ]
  },
  {
   "cell_type": "code",
   "execution_count": 32,
   "metadata": {},
   "outputs": [],
   "source": [
    "pca = PCA(n_components=8) # 독립변수는 축소하지 않는 것이 더 좋다.\n",
    "x_pca_train = pca.fit_transform(x_train)\n",
    "pca_test = pca.transform(test)\n",
    "\n",
    "pca_std = np.std(x_pca_train)"
   ]
  },
  {
   "cell_type": "code",
   "execution_count": 33,
   "metadata": {
    "scrolled": true
   },
   "outputs": [
    {
     "data": {
      "text/plain": [
       "(4792, 8)"
      ]
     },
     "execution_count": 33,
     "metadata": {},
     "output_type": "execute_result"
    }
   ],
   "source": [
    "x_pca_train.shape"
   ]
  },
  {
   "cell_type": "code",
   "execution_count": 34,
   "metadata": {},
   "outputs": [],
   "source": [
    "# 하지 않는 것이 더 좋다.\n",
    "# #정규화\n",
    "# from sklearn.preprocessing import MinMaxScaler\n",
    "# scaler = MinMaxScaler()\n",
    "# scaler.fit(x_train)\n",
    "# scaled_x_train = pd.DataFrame(scaler.transform(x_train))\n",
    "# scaled_test = pd.DataFrame(scaler.transform(test))\n",
    "\n",
    "# # 표준화\n",
    "# from sklearn.preprocessing import StandardScaler \n",
    "# scaler = StandardScaler()\n",
    "# scaler.fit(x_train)\n",
    "# scaled_x_train = pd.DataFrame(scaler.transform(x_train))\n",
    "# scaled_test = pd.DataFrame(scaler.transform(test))"
   ]
  },
  {
   "cell_type": "code",
   "execution_count": 35,
   "metadata": {},
   "outputs": [],
   "source": [
    "# scaled_x_train.hist(bins=100, figsize=(20, 15))\n",
    "# plt.show()"
   ]
  },
  {
   "cell_type": "markdown",
   "metadata": {},
   "source": [
    "# 모델 구성하기"
   ]
  },
  {
   "cell_type": "code",
   "execution_count": 36,
   "metadata": {},
   "outputs": [],
   "source": [
    "from keras import layers, models\n",
    "from tensorflow.keras.models import Sequential\n",
    "from tensorflow.keras.layers import Dense, Dropout, Activation, BatchNormalization"
   ]
  },
  {
   "cell_type": "code",
   "execution_count": 37,
   "metadata": {},
   "outputs": [],
   "source": [
    "input_node = 8 # 독립변수 갯수\n",
    "hidden_node = [64, 64] # 은닉층\n",
    "output_node = 4 # 종속변수 갯수\n",
    "drop_rate = 0.5"
   ]
  },
  {
   "cell_type": "code",
   "execution_count": 38,
   "metadata": {},
   "outputs": [],
   "source": [
    "model = models.Sequential()\n",
    "\n",
    "model.add(Dense(hidden_node[0], input_dim = input_node, kernel_initializer = 'normal', activation = 'relu'))\n",
    "model.add(BatchNormalization())\n",
    "model.add(Dropout(drop_rate))\n",
    "\n",
    "model.add(Dense(hidden_node[1], activation = 'relu'))\n",
    "model.add(BatchNormalization())\n",
    "model.add(Dropout(drop_rate))\n",
    "\n",
    "model.add(Dense(output_node, activation = 'softmax'))"
   ]
  },
  {
   "cell_type": "code",
   "execution_count": 39,
   "metadata": {
    "scrolled": false
   },
   "outputs": [
    {
     "name": "stdout",
     "output_type": "stream",
     "text": [
      "Model: \"sequential\"\n",
      "_________________________________________________________________\n",
      "Layer (type)                 Output Shape              Param #   \n",
      "=================================================================\n",
      "dense (Dense)                (None, 64)                576       \n",
      "_________________________________________________________________\n",
      "batch_normalization (BatchNo (None, 64)                256       \n",
      "_________________________________________________________________\n",
      "dropout (Dropout)            (None, 64)                0         \n",
      "_________________________________________________________________\n",
      "dense_1 (Dense)              (None, 64)                4160      \n",
      "_________________________________________________________________\n",
      "batch_normalization_1 (Batch (None, 64)                256       \n",
      "_________________________________________________________________\n",
      "dropout_1 (Dropout)          (None, 64)                0         \n",
      "_________________________________________________________________\n",
      "dense_2 (Dense)              (None, 4)                 260       \n",
      "=================================================================\n",
      "Total params: 5,508\n",
      "Trainable params: 5,252\n",
      "Non-trainable params: 256\n",
      "_________________________________________________________________\n"
     ]
    }
   ],
   "source": [
    "model.summary()"
   ]
  },
  {
   "cell_type": "code",
   "execution_count": 40,
   "metadata": {},
   "outputs": [],
   "source": [
    "model.compile(loss = 'categorical_crossentropy', optimizer = 'adam', metrics = 'accuracy')"
   ]
  },
  {
   "cell_type": "code",
   "execution_count": null,
   "metadata": {
    "scrolled": true
   },
   "outputs": [
    {
     "name": "stdout",
     "output_type": "stream",
     "text": [
      "Epoch 1/150\n"
     ]
    }
   ],
   "source": [
    "model.fit(x_pca_train, y_train, epochs = 150, batch_size = 32, validation_split = 0.3)"
   ]
  },
  {
   "cell_type": "markdown",
   "metadata": {},
   "source": [
    "# 데이터 예측"
   ]
  },
  {
   "cell_type": "code",
   "execution_count": null,
   "metadata": {},
   "outputs": [],
   "source": [
    "# test 데이터 예측\n",
    "y_pred = model.predict(pca_test)\n",
    "print(y_pred)"
   ]
  },
  {
   "cell_type": "code",
   "execution_count": null,
   "metadata": {},
   "outputs": [],
   "source": [
    "# 예측값 확인\n",
    "print(y_pred.argmax(axis=1))"
   ]
  },
  {
   "cell_type": "code",
   "execution_count": null,
   "metadata": {},
   "outputs": [],
   "source": [
    "temp_y = pd.DataFrame(y_pred.argmax(axis=1))"
   ]
  },
  {
   "cell_type": "code",
   "execution_count": null,
   "metadata": {},
   "outputs": [],
   "source": [
    "temp_y.rename(columns={ 0 : 'class'})"
   ]
  },
  {
   "cell_type": "code",
   "execution_count": null,
   "metadata": {},
   "outputs": [],
   "source": [
    "temp_y = temp_y+1"
   ]
  },
  {
   "cell_type": "code",
   "execution_count": null,
   "metadata": {},
   "outputs": [],
   "source": [
    "temp_y. head()"
   ]
  },
  {
   "cell_type": "code",
   "execution_count": null,
   "metadata": {},
   "outputs": [],
   "source": [
    "temp_y.value_counts()"
   ]
  },
  {
   "cell_type": "code",
   "execution_count": null,
   "metadata": {},
   "outputs": [],
   "source": [
    "temp_y.info()"
   ]
  },
  {
   "cell_type": "code",
   "execution_count": null,
   "metadata": {},
   "outputs": [],
   "source": [
    "np.unique(y_pred.argmax(axis=1), return_counts = True)"
   ]
  },
  {
   "cell_type": "markdown",
   "metadata": {},
   "source": [
    "# 제출 파일 생성"
   ]
  },
  {
   "cell_type": "code",
   "execution_count": null,
   "metadata": {},
   "outputs": [],
   "source": [
    "submission = pd.read_csv('submission_9조.csv')"
   ]
  },
  {
   "cell_type": "code",
   "execution_count": null,
   "metadata": {},
   "outputs": [],
   "source": [
    "submission"
   ]
  },
  {
   "cell_type": "code",
   "execution_count": null,
   "metadata": {},
   "outputs": [],
   "source": [
    "test = pd.read_csv(\"test.csv\")"
   ]
  },
  {
   "cell_type": "code",
   "execution_count": null,
   "metadata": {},
   "outputs": [],
   "source": [
    "submission['ID'] = test['ID']"
   ]
  },
  {
   "cell_type": "code",
   "execution_count": null,
   "metadata": {},
   "outputs": [],
   "source": [
    "submission['class'] = temp_y[0]"
   ]
  },
  {
   "cell_type": "code",
   "execution_count": null,
   "metadata": {
    "scrolled": false
   },
   "outputs": [],
   "source": [
    "submission.info()"
   ]
  },
  {
   "cell_type": "code",
   "execution_count": null,
   "metadata": {},
   "outputs": [],
   "source": [
    "submission.to_csv('submission.csv', index=False)"
   ]
  }
 ],
 "metadata": {
  "kernelspec": {
   "display_name": "Python 3",
   "language": "python",
   "name": "python3"
  },
  "language_info": {
   "codemirror_mode": {
    "name": "ipython",
    "version": 3
   },
   "file_extension": ".py",
   "mimetype": "text/x-python",
   "name": "python",
   "nbconvert_exporter": "python",
   "pygments_lexer": "ipython3",
   "version": "3.8.5"
  }
 },
 "nbformat": 4,
 "nbformat_minor": 4
}
